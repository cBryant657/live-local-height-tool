{
 "cells": [
  {
   "cell_type": "markdown",
   "metadata": {},
   "source": [
    "This script takes the official Parcel PropInfo feature layer and:\n",
    "1) selects only the attributes needed (to reduce load time)\n",
    "2) collapses by the street address field (to eliminate overlaps since only parcels are of interest in this application)\n",
    "\n",
    "last updated by C. Bryant (COTGM) on 12/12/23"
   ]
  },
  {
   "cell_type": "code",
   "execution_count": 1,
   "metadata": {},
   "outputs": [],
   "source": [
    "### IMPORT NEEDED LIBRARIES\n",
    "import pandas as pd\n",
    "from arcgis.gis import GIS, Item\n",
    "from arcgis.features import GeoAccessor, GeoSeriesAccessor, analysis\n",
    "\n",
    "### ACCESS AGOL & SIGN IN \n",
    "gis = GIS(url='https://www.arcgis.com/', username=\"Cherie.Bryant_tlcgis\", password=\"Plncyb01!\")"
   ]
  },
  {
   "cell_type": "code",
   "execution_count": 2,
   "metadata": {},
   "outputs": [],
   "source": [
    "# access authoritative property information layer in AGOL\n",
    "auth_propInfo_layerid = \"05f151475d734fe6970bf78f36642bc9\"\n",
    "auth_propInfo_content = gis.content.get(auth_propInfo_layerid)\n",
    "auth_propInfo_featlyr = auth_propInfo_content.layers[0]\n",
    "columns = [\"TAXID\", \"SITEADDR\", \"SHAPE\"]\n",
    "\n",
    "# import as dataframe & display\n",
    "propInfoDF = pd.DataFrame.spatial.from_layer(auth_propInfo_featlyr)\n",
    "propInfoDF"
   ]
  },
  {
   "cell_type": "code",
   "execution_count": null,
   "metadata": {},
   "outputs": [],
   "source": [
    "propInfoLyr = gis.content.get(\"05f151475d734fe6970bf78f36642bc9\")"
   ]
  },
  {
   "cell_type": "code",
   "execution_count": null,
   "metadata": {},
   "outputs": [],
   "source": [
    "target = GIS(profile=\"Cherie.Bryant_tlcgis\", verify_cert=False)\n"
   ]
  },
  {
   "cell_type": "code",
   "execution_count": null,
   "metadata": {},
   "outputs": [],
   "source": [
    "# target.content.clone_items(items=['Property Information Parcels'],\n",
    "target.content.clone_items(items=[propInfoLyr],\n",
    "                        owner=\"Cherie.Bryant_tlcgis\")\n",
    "                        # folder=\"LiveLocalAct\")"
   ]
  },
  {
   "cell_type": "code",
   "execution_count": 2,
   "metadata": {},
   "outputs": [
    {
     "ename": "",
     "evalue": "",
     "output_type": "error",
     "traceback": [
      "\u001b[1;31mThe Kernel crashed while executing code in the the current cell or a previous cell. Please review the code in the cell(s) to identify a possible cause of the failure. Click <a href='https://aka.ms/vscodeJupyterKernelCrash'>here</a> for more info. View Jupyter <a href='command:jupyter.viewOutput'>log</a> for further details."
     ]
    }
   ],
   "source": [
    "gis1=GIS(r\"https://arcgis.com\", \"cakee\")\n",
    "gis2=GIS(r\"https://arcgis.com\", \"Cherie.Bryant_tlcgis\")\n",
    "\n",
    "itemid = \"05f151475d734fe6970bf78f36642bc9\"\n",
    "item = gis1.content.search(itemid)\n",
    "\n",
    "gis2.content.clone_items(item, copy_data=True, search_existing_items=True)"
   ]
  },
  {
   "cell_type": "code",
   "execution_count": null,
   "metadata": {},
   "outputs": [],
   "source": []
  }
 ],
 "metadata": {
  "kernelspec": {
   "display_name": "Python 3",
   "language": "python",
   "name": "python3"
  },
  "language_info": {
   "codemirror_mode": {
    "name": "ipython",
    "version": 3
   },
   "file_extension": ".py",
   "mimetype": "text/x-python",
   "name": "python",
   "nbconvert_exporter": "python",
   "pygments_lexer": "ipython3",
   "version": "3.9.18"
  }
 },
 "nbformat": 4,
 "nbformat_minor": 2
}
